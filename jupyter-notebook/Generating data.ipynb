{
 "cells": [
  {
   "cell_type": "code",
   "execution_count": 1,
   "metadata": {},
   "outputs": [],
   "source": [
    "import os\n",
    "import sys\n",
    "import random\n",
    "import logging"
   ]
  },
  {
   "cell_type": "code",
   "execution_count": 2,
   "metadata": {},
   "outputs": [],
   "source": [
    "vocabs_src=list('〇一二三四五六七八九十百千万亿元')\n",
    "vocabs_tgt=list('零壹贰叁肆伍陆柒捌玖拾佰仟万亿圆')"
   ]
  },
  {
   "cell_type": "code",
   "execution_count": 3,
   "metadata": {},
   "outputs": [],
   "source": [
    "max_len=200\n",
    "num_sent=3000"
   ]
  },
  {
   "cell_type": "code",
   "execution_count": 4,
   "metadata": {},
   "outputs": [],
   "source": [
    "logger = logging.getLogger(__name__)\n",
    "handler = logging.StreamHandler()\n",
    "formatter = logging.Formatter(\n",
    "        '%(asctime)s :%(name)s:%(levelname)s: %(message)s',\"%Y-%m-%d %H:%M:%S\")\n",
    "handler.setFormatter(formatter)\n",
    "logger.addHandler(handler)\n",
    "logger.setLevel(logging.DEBUG)"
   ]
  },
  {
   "cell_type": "code",
   "execution_count": 5,
   "metadata": {},
   "outputs": [
    {
     "name": "stderr",
     "output_type": "stream",
     "text": [
      "2018-01-10 15:17:12 :__main__:DEBUG: abc\n"
     ]
    }
   ],
   "source": [
    "logger.debug('abc')"
   ]
  },
  {
   "cell_type": "code",
   "execution_count": 95,
   "metadata": {},
   "outputs": [],
   "source": [
    "def gen_random_sent_pair(max_len,vocabs_src,vocabs_tgt):\n",
    "    sent_len=random.randint(a=1,b=max_len)\n",
    "    vocab_size=len(vocabs_src)\n",
    "    sent_src=[]\n",
    "    sent_tgt=[]\n",
    "    for i in range(sent_len):\n",
    "        ri=random.randint(0,vocab_size-1)\n",
    "        sent_src.append(vocabs_src[ri])\n",
    "        sent_tgt.append(vocabs_tgt[ri])\n",
    "    \n",
    "    return ' '.join(sent_src), ' '.join(sent_tgt[::-1])"
   ]
  },
  {
   "cell_type": "code",
   "execution_count": 99,
   "metadata": {},
   "outputs": [],
   "source": [
    "def gen_paralell_text_file(root,fname,exts,vocabs,max_len,num_sent):\n",
    "    fpaths=[os.path.join(root,fname+'.'+ext) for ext in exts]\n",
    "    \n",
    "    if not os.path.exists(root):\n",
    "        os.makedirs(root)\n",
    "    \n",
    "    with open(fpaths[0],'wt') as f_src, open(fpaths[1],'wt') as f_tgt:\n",
    "        for i in range(num_sent):\n",
    "            sent_pair=gen_random_sent_pair(max_len=max_len, vocabs_src= vocabs[0],vocabs_tgt=vocabs[1])\n",
    "            f_src.write(sent_pair[0]+'\\n')\n",
    "            f_tgt.write(sent_pair[1]+'\\n')"
   ]
  },
  {
   "cell_type": "code",
   "execution_count": 100,
   "metadata": {},
   "outputs": [],
   "source": [
    "gen_paralell_text_file(root='../data/toy_reverse_chinese_numbers/',fname='train',exts=('src','tgt'),vocabs=(vocabs_src,vocabs_tgt),max_len=200,num_sent=3000)"
   ]
  },
  {
   "cell_type": "code",
   "execution_count": null,
   "metadata": {},
   "outputs": [],
   "source": []
  }
 ],
 "metadata": {
  "kernelspec": {
   "display_name": "Python 3",
   "language": "python",
   "name": "python3"
  },
  "language_info": {
   "codemirror_mode": {
    "name": "ipython",
    "version": 3
   },
   "file_extension": ".py",
   "mimetype": "text/x-python",
   "name": "python",
   "nbconvert_exporter": "python",
   "pygments_lexer": "ipython3",
   "version": "3.5.2"
  }
 },
 "nbformat": 4,
 "nbformat_minor": 2
}
